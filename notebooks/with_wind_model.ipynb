{
 "cells": [
  {
   "cell_type": "code",
   "execution_count": 1,
   "id": "f6f402a2",
   "metadata": {},
   "outputs": [],
   "source": [
    "import os, re\n",
    "from dotenv import dotenv_values\n",
    "\n",
    "from sqlalchemy import create_engine, text\n",
    "\n",
    "from datetime import date,datetime,timedelta\n",
    "import pandas as pd\n",
    "import numpy as np\n",
    "\n",
    "from matplotlib import pyplot as plt\n",
    "\n",
    "import requests"
   ]
  },
  {
   "cell_type": "markdown",
   "id": "46aff305",
   "metadata": {},
   "source": [
    "# Stations, Nitrates and Weather Data"
   ]
  },
  {
   "cell_type": "code",
   "execution_count": 2,
   "id": "cf725bf2",
   "metadata": {},
   "outputs": [],
   "source": [
    "# Settings from .env file\n",
    "\n",
    "settings = dotenv_values()\n",
    "\n",
    "# SQL CONFIG\n",
    "\n",
    "settings = dotenv_values() # Loads settings from .env file\n",
    "ROOT='..' # relative path to the root of the project\n",
    "\n",
    "db_uri = (\n",
    "    f\"mysql+pymysql://{settings['SQL_USER']}:{settings['SQL_PWD']}\"\n",
    "    f\"@{settings['SQL_HOST']}/{settings['SQL_DB']}\"\n",
    "    f\"?ssl_ca={os.path.join(ROOT,settings['SQL_SSL_CA'])}\"\n",
    "    f\"&ssl_cert={os.path.join(ROOT,settings['SQL_SSL_CERT'])}\"\n",
    "    f\"&ssl_key={os.path.join(ROOT,settings['SQL_SSL_KEY'])}\"\n",
    "    f\"&ssl_check_hostname=false\"\n",
    ")\n",
    "\n",
    "engine = create_engine(db_uri,echo=False, future=False)"
   ]
  },
  {
   "cell_type": "code",
   "execution_count": 3,
   "id": "bdc481ee",
   "metadata": {},
   "outputs": [
    {
     "data": {
      "text/html": [
       "<div>\n",
       "<style scoped>\n",
       "    .dataframe tbody tr th:only-of-type {\n",
       "        vertical-align: middle;\n",
       "    }\n",
       "\n",
       "    .dataframe tbody tr th {\n",
       "        vertical-align: top;\n",
       "    }\n",
       "\n",
       "    .dataframe thead th {\n",
       "        text-align: right;\n",
       "    }\n",
       "</style>\n",
       "<table border=\"1\" class=\"dataframe\">\n",
       "  <thead>\n",
       "    <tr style=\"text-align: right;\">\n",
       "      <th></th>\n",
       "      <th>station_id</th>\n",
       "      <th>label</th>\n",
       "      <th>alt</th>\n",
       "      <th>river_id</th>\n",
       "      <th>river_label</th>\n",
       "      <th>mean_nitrate</th>\n",
       "      <th>lat</th>\n",
       "      <th>lon</th>\n",
       "    </tr>\n",
       "  </thead>\n",
       "  <tbody>\n",
       "    <tr>\n",
       "      <th>0</th>\n",
       "      <td>6000990</td>\n",
       "      <td>BELRUPT</td>\n",
       "      <td>292</td>\n",
       "      <td>U---0000</td>\n",
       "      <td>La Saône</td>\n",
       "      <td>4.513699</td>\n",
       "      <td>48.090273</td>\n",
       "      <td>6.101941</td>\n",
       "    </tr>\n",
       "    <tr>\n",
       "      <th>1</th>\n",
       "      <td>6000998</td>\n",
       "      <td>MONTHUREUX-SUR-SAONE 2</td>\n",
       "      <td>241</td>\n",
       "      <td>U---0000</td>\n",
       "      <td>La Saône</td>\n",
       "      <td>6.428571</td>\n",
       "      <td>48.018251</td>\n",
       "      <td>5.941492</td>\n",
       "    </tr>\n",
       "    <tr>\n",
       "      <th>2</th>\n",
       "      <td>6000993</td>\n",
       "      <td>JONVELLE</td>\n",
       "      <td>230</td>\n",
       "      <td>U---0000</td>\n",
       "      <td>La Saône</td>\n",
       "      <td>9.433333</td>\n",
       "      <td>47.936380</td>\n",
       "      <td>5.923536</td>\n",
       "    </tr>\n",
       "    <tr>\n",
       "      <th>3</th>\n",
       "      <td>6001000</td>\n",
       "      <td>CENDRECOURT</td>\n",
       "      <td>213</td>\n",
       "      <td>U---0000</td>\n",
       "      <td>La Saône</td>\n",
       "      <td>9.233333</td>\n",
       "      <td>47.840261</td>\n",
       "      <td>5.917378</td>\n",
       "    </tr>\n",
       "    <tr>\n",
       "      <th>4</th>\n",
       "      <td>6003600</td>\n",
       "      <td>SCEY-SUR-SAONE-ET-ST-ALBI</td>\n",
       "      <td>210</td>\n",
       "      <td>U---0000</td>\n",
       "      <td>La Saône</td>\n",
       "      <td>8.421519</td>\n",
       "      <td>47.661731</td>\n",
       "      <td>5.972460</td>\n",
       "    </tr>\n",
       "  </tbody>\n",
       "</table>\n",
       "</div>"
      ],
      "text/plain": [
       "   station_id                      label  alt  river_id river_label  \\\n",
       "0     6000990                    BELRUPT  292  U---0000    La Saône   \n",
       "1     6000998     MONTHUREUX-SUR-SAONE 2  241  U---0000    La Saône   \n",
       "2     6000993                   JONVELLE  230  U---0000    La Saône   \n",
       "3     6001000                CENDRECOURT  213  U---0000    La Saône   \n",
       "4     6003600  SCEY-SUR-SAONE-ET-ST-ALBI  210  U---0000    La Saône   \n",
       "\n",
       "   mean_nitrate        lat       lon  \n",
       "0      4.513699  48.090273  6.101941  \n",
       "1      6.428571  48.018251  5.941492  \n",
       "2      9.433333  47.936380  5.923536  \n",
       "3      9.233333  47.840261  5.917378  \n",
       "4      8.421519  47.661731  5.972460  "
      ]
     },
     "execution_count": 3,
     "metadata": {},
     "output_type": "execute_result"
    }
   ],
   "source": [
    "# Stations Dataframe\n",
    "\n",
    "stations = pd.read_csv('../data/stations.csv')\n",
    "stations.head()"
   ]
  },
  {
   "cell_type": "code",
   "execution_count": 4,
   "id": "5a681d03",
   "metadata": {},
   "outputs": [
    {
     "data": {
      "text/html": [
       "<div>\n",
       "<style scoped>\n",
       "    .dataframe tbody tr th:only-of-type {\n",
       "        vertical-align: middle;\n",
       "    }\n",
       "\n",
       "    .dataframe tbody tr th {\n",
       "        vertical-align: top;\n",
       "    }\n",
       "\n",
       "    .dataframe thead th {\n",
       "        text-align: right;\n",
       "    }\n",
       "</style>\n",
       "<table border=\"1\" class=\"dataframe\">\n",
       "  <thead>\n",
       "    <tr style=\"text-align: right;\">\n",
       "      <th></th>\n",
       "      <th>day</th>\n",
       "      <th>station_id</th>\n",
       "      <th>temperature</th>\n",
       "      <th>precipitation</th>\n",
       "      <th>maxwind</th>\n",
       "      <th>description</th>\n",
       "    </tr>\n",
       "  </thead>\n",
       "  <tbody>\n",
       "    <tr>\n",
       "      <th>0</th>\n",
       "      <td>2010-01-01</td>\n",
       "      <td>6000990</td>\n",
       "      <td>2.4</td>\n",
       "      <td>3.9</td>\n",
       "      <td>20.2</td>\n",
       "      <td>Heavy snow</td>\n",
       "    </tr>\n",
       "    <tr>\n",
       "      <th>1</th>\n",
       "      <td>2010-01-01</td>\n",
       "      <td>6000993</td>\n",
       "      <td>2.4</td>\n",
       "      <td>7.6</td>\n",
       "      <td>20.9</td>\n",
       "      <td>Heavy snow</td>\n",
       "    </tr>\n",
       "    <tr>\n",
       "      <th>2</th>\n",
       "      <td>2010-01-01</td>\n",
       "      <td>6000998</td>\n",
       "      <td>2.4</td>\n",
       "      <td>7.6</td>\n",
       "      <td>20.9</td>\n",
       "      <td>Heavy snow</td>\n",
       "    </tr>\n",
       "    <tr>\n",
       "      <th>3</th>\n",
       "      <td>2010-01-01</td>\n",
       "      <td>6001000</td>\n",
       "      <td>3.1</td>\n",
       "      <td>7.3</td>\n",
       "      <td>21.2</td>\n",
       "      <td>Heavy snow</td>\n",
       "    </tr>\n",
       "    <tr>\n",
       "      <th>4</th>\n",
       "      <td>2010-01-01</td>\n",
       "      <td>6002500</td>\n",
       "      <td>3.1</td>\n",
       "      <td>7.3</td>\n",
       "      <td>21.2</td>\n",
       "      <td>Heavy snow</td>\n",
       "    </tr>\n",
       "  </tbody>\n",
       "</table>\n",
       "</div>"
      ],
      "text/plain": [
       "         day  station_id  temperature  precipitation  maxwind description\n",
       "0 2010-01-01     6000990          2.4            3.9     20.2  Heavy snow\n",
       "1 2010-01-01     6000993          2.4            7.6     20.9  Heavy snow\n",
       "2 2010-01-01     6000998          2.4            7.6     20.9  Heavy snow\n",
       "3 2010-01-01     6001000          3.1            7.3     21.2  Heavy snow\n",
       "4 2010-01-01     6002500          3.1            7.3     21.2  Heavy snow"
      ]
     },
     "execution_count": 4,
     "metadata": {},
     "output_type": "execute_result"
    }
   ],
   "source": [
    "# weather dataframe\n",
    "\n",
    "query = \"SELECT * FROM weather ;\"\n",
    "weather = pd.read_sql_query(query,engine)\n",
    "weather.day = pd.to_datetime(weather.day)\n",
    "weather.head()"
   ]
  },
  {
   "cell_type": "code",
   "execution_count": 5,
   "id": "eaf6f248",
   "metadata": {},
   "outputs": [
    {
     "data": {
      "text/html": [
       "<div>\n",
       "<style scoped>\n",
       "    .dataframe tbody tr th:only-of-type {\n",
       "        vertical-align: middle;\n",
       "    }\n",
       "\n",
       "    .dataframe tbody tr th {\n",
       "        vertical-align: top;\n",
       "    }\n",
       "\n",
       "    .dataframe thead th {\n",
       "        text-align: right;\n",
       "    }\n",
       "</style>\n",
       "<table border=\"1\" class=\"dataframe\">\n",
       "  <thead>\n",
       "    <tr style=\"text-align: right;\">\n",
       "      <th></th>\n",
       "      <th>station_id</th>\n",
       "      <th>day</th>\n",
       "      <th>measure</th>\n",
       "    </tr>\n",
       "  </thead>\n",
       "  <tbody>\n",
       "    <tr>\n",
       "      <th>0</th>\n",
       "      <td>6000990</td>\n",
       "      <td>2011-01-19</td>\n",
       "      <td>4.5</td>\n",
       "    </tr>\n",
       "    <tr>\n",
       "      <th>1</th>\n",
       "      <td>6000990</td>\n",
       "      <td>2011-03-23</td>\n",
       "      <td>3.5</td>\n",
       "    </tr>\n",
       "    <tr>\n",
       "      <th>2</th>\n",
       "      <td>6000990</td>\n",
       "      <td>2011-05-17</td>\n",
       "      <td>4.7</td>\n",
       "    </tr>\n",
       "    <tr>\n",
       "      <th>3</th>\n",
       "      <td>6000990</td>\n",
       "      <td>2011-07-20</td>\n",
       "      <td>4.1</td>\n",
       "    </tr>\n",
       "    <tr>\n",
       "      <th>4</th>\n",
       "      <td>6000990</td>\n",
       "      <td>2011-09-21</td>\n",
       "      <td>4.5</td>\n",
       "    </tr>\n",
       "  </tbody>\n",
       "</table>\n",
       "</div>"
      ],
      "text/plain": [
       "   station_id        day  measure\n",
       "0     6000990 2011-01-19      4.5\n",
       "1     6000990 2011-03-23      3.5\n",
       "2     6000990 2011-05-17      4.7\n",
       "3     6000990 2011-07-20      4.1\n",
       "4     6000990 2011-09-21      4.5"
      ]
     },
     "execution_count": 5,
     "metadata": {},
     "output_type": "execute_result"
    }
   ],
   "source": [
    "# nitrates dataframe\n",
    "nitrates = pd.read_csv('../data/nitrates_2011_2021.csv')\n",
    "nitrates.day = pd.to_datetime(nitrates.day)\n",
    "nitrates.head()"
   ]
  },
  {
   "cell_type": "markdown",
   "id": "a76c4e47",
   "metadata": {},
   "source": [
    "# Features Constitution "
   ]
  },
  {
   "cell_type": "code",
   "execution_count": 31,
   "id": "6c120a49",
   "metadata": {},
   "outputs": [],
   "source": [
    "DELTA = 60"
   ]
  },
  {
   "cell_type": "code",
   "execution_count": 32,
   "id": "e71a4e4b",
   "metadata": {},
   "outputs": [],
   "source": [
    "df = nitrates.copy()"
   ]
  },
  {
   "cell_type": "code",
   "execution_count": 33,
   "id": "22f541b8",
   "metadata": {},
   "outputs": [],
   "source": [
    "# We add mean_nitrate to the df\n",
    "mean_nitrate = stations[['station_id','mean_nitrate']]\n",
    "df = pd.merge(df,mean_nitrate,how='inner',on='station_id')"
   ]
  },
  {
   "cell_type": "code",
   "execution_count": 34,
   "id": "364ea4bc",
   "metadata": {},
   "outputs": [],
   "source": [
    "# We add precipitations to the df\n",
    "precipitations = weather[['station_id','day','precipitation']]\n",
    "df = pd.merge(df,precipitations,how='inner',on=['station_id','day'])\n",
    "\n",
    "# We add previous days precipitation\n",
    "for delta in range(1,DELTA) :\n",
    "    previous_prec = weather[['station_id','day','precipitation']].copy()\n",
    "    previous_prec['day'] = previous_prec['day'] + timedelta(delta)\n",
    "    previous_prec.columns = ['station_id','day',f'precipitation_{delta}']\n",
    "    df = pd.merge(df,previous_prec,how='inner',on=['station_id','day'])"
   ]
  },
  {
   "cell_type": "code",
   "execution_count": 35,
   "id": "283344d0",
   "metadata": {},
   "outputs": [],
   "source": [
    "# We add temperature\n",
    "temp = weather[['station_id','day','temperature']]\n",
    "df = pd.merge(df,temp,how='inner',on=['station_id','day'])\n",
    "\n",
    "# We add previous days temperature\n",
    "for delta in range(1,DELTA) :\n",
    "    previous_temp = weather[['station_id','day','temperature']].copy()\n",
    "    previous_temp['day'] = previous_temp['day'] + timedelta(delta)\n",
    "    previous_temp.columns = ['station_id','day',f'temperature_{delta}']\n",
    "    df = pd.merge(df,previous_temp,how='inner',on=['station_id','day'])"
   ]
  },
  {
   "cell_type": "code",
   "execution_count": 36,
   "id": "ed11a7ee",
   "metadata": {},
   "outputs": [],
   "source": [
    "# We add maxwind\n",
    "maxwind = weather[['station_id','day','maxwind']]\n",
    "df = pd.merge(df,maxwind,how='inner',on=['station_id','day'])\n",
    "\n",
    "# We add previous days precipitation\n",
    "for delta in range(1,DELTA) :\n",
    "    previous_mw = weather[['station_id','day','maxwind']].copy()\n",
    "    previous_mw['day'] = previous_mw['day'] + timedelta(delta)\n",
    "    previous_mw.columns = ['station_id','day',f'maxwind_{delta}']\n",
    "    df = pd.merge(df,previous_mw,how='inner',on=['station_id','day'])"
   ]
  },
  {
   "cell_type": "code",
   "execution_count": 37,
   "id": "32d33588",
   "metadata": {},
   "outputs": [
    {
     "name": "stderr",
     "output_type": "stream",
     "text": [
      "/tmp/ipykernel_46195/2786146164.py:3: PerformanceWarning: DataFrame is highly fragmented.  This is usually the result of calling `frame.insert` many times, which has poor performance.  Consider joining all columns at once using pd.concat(axis=1) instead.  To get a de-fragmented frame, use `newframe = frame.copy()`\n",
      "  df['doy'] = df['day'].dt.dayofyear # doy = day of year\n",
      "/tmp/ipykernel_46195/2786146164.py:6: PerformanceWarning: DataFrame is highly fragmented.  This is usually the result of calling `frame.insert` many times, which has poor performance.  Consider joining all columns at once using pd.concat(axis=1) instead.  To get a de-fragmented frame, use `newframe = frame.copy()`\n",
      "  df['sin_doy'] = np.sin( (df['doy']-1) * 2 * np.pi / 365 )\n",
      "/tmp/ipykernel_46195/2786146164.py:7: PerformanceWarning: DataFrame is highly fragmented.  This is usually the result of calling `frame.insert` many times, which has poor performance.  Consider joining all columns at once using pd.concat(axis=1) instead.  To get a de-fragmented frame, use `newframe = frame.copy()`\n",
      "  df['cos_doy'] = np.cos( (df['doy']-1) * 2 * np.pi / 365 )\n"
     ]
    }
   ],
   "source": [
    "# We add day_of_year\n",
    "# Format date\n",
    "df['doy'] = df['day'].dt.dayofyear # doy = day of year\n",
    "\n",
    "# Turns day of year to cyclical feature (sin,cos)\n",
    "df['sin_doy'] = np.sin( (df['doy']-1) * 2 * np.pi / 365 )\n",
    "df['cos_doy'] = np.cos( (df['doy']-1) * 2 * np.pi / 365 )\n",
    "\n",
    "constituted_df = df.copy()"
   ]
  },
  {
   "cell_type": "markdown",
   "id": "541ea992",
   "metadata": {},
   "source": [
    "# Base Model"
   ]
  },
  {
   "cell_type": "code",
   "execution_count": 62,
   "id": "e5be4c71",
   "metadata": {},
   "outputs": [],
   "source": [
    "from tensorflow.keras import models, layers, regularizers\n",
    "\n",
    "from sklearn.model_selection import train_test_split\n",
    "from sklearn.preprocessing import StandardScaler\n",
    "from tensorflow.keras.callbacks import EarlyStopping"
   ]
  },
  {
   "cell_type": "code",
   "execution_count": 63,
   "id": "842ee209",
   "metadata": {},
   "outputs": [],
   "source": [
    "feat_cols = [\n",
    "    'mean_nitrate',\n",
    "    'precipitation',\n",
    "    'temperature',\n",
    "    'maxwind',\n",
    "    'sin_doy',\n",
    "    'cos_doy',\n",
    "]\n",
    "\n",
    "DELTA_M = 60\n",
    "if DELTA_M > DELTA : DELTA_M = DELTA\n",
    "\n",
    "for delta in range(1,DELTA_M) :\n",
    "    feat_cols += [f'precipitation_{delta}']\n",
    "for delta in range(1,DELTA_M) :\n",
    "    feat_cols += [f'temperature_{delta}']\n",
    "for delta in range(1,DELTA_M) :\n",
    "    feat_cols += [f'maxwind_{delta}']"
   ]
  },
  {
   "cell_type": "code",
   "execution_count": 111,
   "id": "92ae129e",
   "metadata": {},
   "outputs": [],
   "source": [
    "df = constituted_df.copy()\n",
    "\n",
    "# Retreiving Validation Data\n",
    "VAL_STATION = 6045800 # 6059500\n",
    "val_rows = (df['station_id'] == VAL_STATION) & (df['day'] > datetime(year=2016,month=1,day=1))\n",
    "\n",
    "df_val = df[val_rows].copy()\n",
    "df = df[df['station_id'] != VAL_STATION].copy()\n",
    "X_val = df_val[feat_cols]\n",
    "y_val=df_val['measure']\n",
    "\n",
    "# Features, Target\n",
    "X = df[feat_cols]\n",
    "y = df['measure']\n",
    "\n",
    "# Train / Test split\n",
    "X_train, X_test, y_train, y_test = train_test_split(X, y, test_size = 0.2)\n"
   ]
  },
  {
   "cell_type": "code",
   "execution_count": 112,
   "id": "f8fa8966",
   "metadata": {},
   "outputs": [],
   "source": [
    "# Preprocessing\n",
    "scaler = StandardScaler()\n",
    "scaler.fit(X_train)\n",
    "\n",
    "X_train = scaler.transform(X_train)\n",
    "X_test = scaler.transform(X_test)\n",
    "X_val = scaler.transform(X_val)"
   ]
  },
  {
   "cell_type": "code",
   "execution_count": 113,
   "id": "efc600eb",
   "metadata": {
    "scrolled": false
   },
   "outputs": [
    {
     "name": "stdout",
     "output_type": "stream",
     "text": [
      "val_loss_min=4.7811279296875\n"
     ]
    }
   ],
   "source": [
    "def init_model(X):\n",
    "    \n",
    "    regl2 = regularizers.L2(0.001)\n",
    "    \n",
    "    model = models.Sequential()\n",
    "    \n",
    "    model.add( layers.Dense(200,activation='relu',input_dim=X.shape[1]) )\n",
    "    model.add( layers.Dropout(rate=0.2) )\n",
    "    model.add( layers.Dense(100,activation='relu',kernel_regularizer=regl2) )\n",
    "    model.add(layers.Dropout(rate=0.3))\n",
    "    \n",
    "    model.add( layers.Dense(50,activation='relu',kernel_regularizer=regl2) )\n",
    "    model.add(layers.Dropout(rate=0.5))\n",
    "    \n",
    "    \n",
    "    model.add(layers.Dense(1,activation='linear'))\n",
    "    \n",
    "    return model\n",
    "\n",
    "model = init_model(X)\n",
    "model.compile(loss='mse', optimizer='adam')\n",
    "\n",
    "es = EarlyStopping(\n",
    "\tpatience=15,\n",
    "\tmonitor='val_loss',\n",
    "\trestore_best_weights=True\n",
    ")\n",
    "\n",
    "history = model.fit(\n",
    "\tX_train,y_train,\n",
    "\tepochs=2000,  # set it to a large value, early stoping will stop the fit\n",
    "\tbatch_size=32, # good values : 16 or 32\n",
    "\tcallbacks=[es],\n",
    "\tvalidation_data=(X_test, y_test),\n",
    "\tverbose=0\n",
    ")\n",
    "\n",
    "val_loss_min = min(history.history['val_loss'])\n",
    "print(f'{val_loss_min=}')"
   ]
  },
  {
   "cell_type": "code",
   "execution_count": 114,
   "id": "8f092bfc",
   "metadata": {},
   "outputs": [
    {
     "data": {
      "image/png": "[encoded data removed]",
      "text/plain": [
       "<Figure size 1440x504 with 1 Axes>"
      ]
     },
     "metadata": {
      "needs_background": "light"
     },
     "output_type": "display_data"
    }
   ],
   "source": [
    "def plot_loss(history, title=None):\n",
    "    fig = plt.figure(figsize=(20,7))\n",
    "    \n",
    "    # --- LOSS --- \n",
    "    ax = plt.gca()\n",
    "    ax.plot(history.history['loss'])\n",
    "    ax.plot(history.history['val_loss'])\n",
    "    ax.set_title('Model loss')\n",
    "    ax.set_ylabel('Loss')\n",
    "    ax.set_xlabel('Epoch')\n",
    "    ax.set_ylim((0,35))\n",
    "    ax.legend(['Train', 'Test'], loc='best')\n",
    "    ax.grid(axis=\"x\",linewidth=0.5)\n",
    "    ax.grid(axis=\"y\",linewidth=0.5)\n",
    "\n",
    "    if title:\n",
    "        fig.suptitle(title)\n",
    "\n",
    "plot_loss(history)"
   ]
  },
  {
   "cell_type": "code",
   "execution_count": 115,
   "id": "44635592",
   "metadata": {},
   "outputs": [
    {
     "data": {
      "image/png": "[encoded data removed]",
      "text/plain": [
       "<Figure size 1008x360 with 1 Axes>"
      ]
     },
     "metadata": {
      "needs_background": "light"
     },
     "output_type": "display_data"
    }
   ],
   "source": [
    "# VAL PLOT\n",
    "y_pred = model.predict(X_val)\n",
    "df_val['prediction'] = y_pred\n",
    "\n",
    "df_val.sort_values('day',inplace=True)\n",
    "\n",
    "plt.figure(figsize=(14,5))\n",
    "plt.plot(df_val['day'],df_val['measure'],label='Réel')\n",
    "plt.plot(df_val['day'],df_val['prediction'],label='Prévision')\n",
    "plt.legend()\n",
    "plt.show()"
   ]
  },
  {
   "cell_type": "code",
   "execution_count": null,
   "id": "960929e9",
   "metadata": {},
   "outputs": [],
   "source": []
  }
 ],
 "metadata": {
  "kernelspec": {
   "display_name": "Python 3 (ipykernel)",
   "language": "python",
   "name": "python3"
  },
  "language_info": {
   "codemirror_mode": {
    "name": "ipython",
    "version": 3
   },
   "file_extension": ".py",
   "mimetype": "text/x-python",
   "name": "python",
   "nbconvert_exporter": "python",
   "pygments_lexer": "ipython3",
   "version": "3.8.12"
  },
  "toc": {
   "base_numbering": 1,
   "nav_menu": {},
   "number_sections": true,
   "sideBar": true,
   "skip_h1_title": false,
   "title_cell": "Table of Contents",
   "title_sidebar": "Contents",
   "toc_cell": false,
   "toc_position": {},
   "toc_section_display": true,
   "toc_window_display": false
  }
 },
 "nbformat": 4,
 "nbformat_minor": 5
}
