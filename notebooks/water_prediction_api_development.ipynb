{
 "cells": [
  {
   "cell_type": "code",
   "execution_count": 11,
   "id": "ee9873b1",
   "metadata": {},
   "outputs": [
    {
     "name": "stdout",
     "output_type": "stream",
     "text": [
      "The autoreload extension is already loaded. To reload it, use:\n",
      "  %reload_ext autoreload\n"
     ]
    }
   ],
   "source": [
    "%load_ext autoreload\n",
    "%autoreload 2"
   ]
  },
  {
   "cell_type": "code",
   "execution_count": 12,
   "id": "b81342bf",
   "metadata": {},
   "outputs": [],
   "source": [
    "from water_prediction_api import util\n",
    "import pandas as pd\n",
    "from datetime import date, datetime, timedelta\n"
   ]
  },
  {
   "cell_type": "code",
   "execution_count": 13,
   "id": "85a68899",
   "metadata": {},
   "outputs": [],
   "source": [
    "# Test Station ID\n",
    "station_id = 6000990"
   ]
  },
  {
   "cell_type": "code",
   "execution_count": 14,
   "id": "e7f5e55e",
   "metadata": {},
   "outputs": [],
   "source": [
    "stations = util.get_stations_df()\n",
    "weather = util.get_weather_df(station_id)\n",
    "data = util.build_features_data(station_id,stations,weather)"
   ]
  },
  {
   "cell_type": "code",
   "execution_count": 15,
   "id": "4eed1a19",
   "metadata": {},
   "outputs": [],
   "source": [
    "util.add_prediction_to_the_data(data)"
   ]
  },
  {
   "cell_type": "code",
   "execution_count": null,
   "id": "80ed6a59",
   "metadata": {},
   "outputs": [],
   "source": []
  }
 ],
 "metadata": {
  "kernelspec": {
   "display_name": "Python 3 (ipykernel)",
   "language": "python",
   "name": "python3"
  },
  "language_info": {
   "codemirror_mode": {
    "name": "ipython",
    "version": 3
   },
   "file_extension": ".py",
   "mimetype": "text/x-python",
   "name": "python",
   "nbconvert_exporter": "python",
   "pygments_lexer": "ipython3",
   "version": "3.8.12"
  },
  "toc": {
   "base_numbering": 1,
   "nav_menu": {},
   "number_sections": true,
   "sideBar": true,
   "skip_h1_title": false,
   "title_cell": "Table of Contents",
   "title_sidebar": "Contents",
   "toc_cell": false,
   "toc_position": {},
   "toc_section_display": true,
   "toc_window_display": false
  }
 },
 "nbformat": 4,
 "nbformat_minor": 5
}
