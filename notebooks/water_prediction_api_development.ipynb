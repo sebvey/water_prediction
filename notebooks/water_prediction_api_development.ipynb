{
 "cells": [
  {
   "cell_type": "code",
   "execution_count": 21,
   "id": "ee9873b1",
   "metadata": {},
   "outputs": [
    {
     "name": "stdout",
     "output_type": "stream",
     "text": [
      "The autoreload extension is already loaded. To reload it, use:\n",
      "  %reload_ext autoreload\n"
     ]
    }
   ],
   "source": [
    "%load_ext autoreload\n",
    "%autoreload 2"
   ]
  },
  {
   "cell_type": "code",
   "execution_count": 22,
   "id": "b81342bf",
   "metadata": {},
   "outputs": [],
   "source": [
    "from water_prediction_api import util\n",
    "import pandas as pd\n",
    "from datetime import date, datetime, timedelta\n"
   ]
  },
  {
   "cell_type": "code",
   "execution_count": 23,
   "id": "85a68899",
   "metadata": {},
   "outputs": [],
   "source": [
    "# Test Station ID\n",
    "station_id = 6000990"
   ]
  },
  {
   "cell_type": "code",
   "execution_count": 24,
   "id": "80ed6a59",
   "metadata": {},
   "outputs": [],
   "source": [
    "try :\n",
    "    station_id = int(station_id)\n",
    "except ValueError :\n",
    "    print('ko')"
   ]
  },
  {
   "cell_type": "code",
   "execution_count": 29,
   "id": "1c53cae1",
   "metadata": {},
   "outputs": [
    {
     "name": "stdout",
     "output_type": "stream",
     "text": [
      "SQL_SSL_CA path : /home/sve/prj/water_prediction/water_prediction_api/../settings/server-ca.pem\n",
      "pwd : /home/sve/prj/water_prediction/notebooks\n"
     ]
    }
   ],
   "source": [
    "stations = util.get_stations_df()\n",
    "if station_id not in stations.index :\n",
    "    print('Station ID unknown')"
   ]
  },
  {
   "cell_type": "code",
   "execution_count": 50,
   "id": "e7f5e55e",
   "metadata": {},
   "outputs": [],
   "source": [
    "# Building Features data\n",
    "weather = util.get_weather_df(station_id)\n",
    "weather['day'] = weather['day'].dt.strftime('%Y-%m-%d')\n",
    "weather.set_index('day',drop=True,inplace=True)"
   ]
  },
  {
   "cell_type": "code",
   "execution_count": 54,
   "id": "b145a18b",
   "metadata": {},
   "outputs": [
    {
     "data": {
      "text/plain": [
       "'{\"2021-12-17\":{\"station_id\":6000990,\"temperature\":3.7,\"precipitation\":0.0,\"maxwind\":10.8},\"2021-12-18\":{\"station_id\":6000990,\"temperature\":4.5,\"precipitation\":0.0,\"maxwind\":14.8},\"2021-12-19\":{\"station_id\":6000990,\"temperature\":3.6,\"precipitation\":0.0,\"maxwind\":9.0},\"2021-12-20\":{\"station_id\":6000990,\"temperature\":3.2,\"precipitation\":0.0,\"maxwind\":14.8},\"2021-12-21\":{\"station_id\":6000990,\"temperature\":0.4,\"precipitation\":0.0,\"maxwind\":7.2},\"2021-12-22\":{\"station_id\":6000990,\"temperature\":-0.6,\"precipitation\":0.0,\"maxwind\":6.1},\"2021-12-23\":{\"station_id\":6000990,\"temperature\":2.6,\"precipitation\":0.0,\"maxwind\":15.5},\"2021-12-24\":{\"station_id\":6000990,\"temperature\":4.0,\"precipitation\":0.4,\"maxwind\":14.4},\"2021-12-25\":{\"station_id\":6000990,\"temperature\":6.5,\"precipitation\":0.3,\"maxwind\":14.8},\"2021-12-26\":{\"station_id\":6000990,\"temperature\":6.8,\"precipitation\":3.5,\"maxwind\":14.8},\"2021-12-27\":{\"station_id\":6000990,\"temperature\":6.5,\"precipitation\":2.5,\"maxwind\":25.9},\"2021-12-28\":{\"station_id\":6000990,\"temperature\":8.8,\"precipitation\":4.4,\"maxwind\":28.1},\"2021-12-29\":{\"station_id\":6000990,\"temperature\":10.1,\"precipitation\":5.4,\"maxwind\":22.3},\"2021-12-30\":{\"station_id\":6000990,\"temperature\":11.2,\"precipitation\":1.0,\"maxwind\":20.5},\"2021-12-31\":{\"station_id\":6000990,\"temperature\":9.6,\"precipitation\":0.0,\"maxwind\":10.1},\"2022-01-01\":{\"station_id\":6000990,\"temperature\":9.6,\"precipitation\":0.0,\"maxwind\":7.9},\"2022-01-02\":{\"station_id\":6000990,\"temperature\":7.8,\"precipitation\":0.1,\"maxwind\":18.4},\"2022-01-03\":{\"station_id\":6000990,\"temperature\":9.0,\"precipitation\":1.4,\"maxwind\":25.2},\"2022-01-04\":{\"station_id\":6000990,\"temperature\":10.4,\"precipitation\":3.6,\"maxwind\":33.5},\"2022-01-05\":{\"station_id\":6000990,\"temperature\":1.4,\"precipitation\":4.0,\"maxwind\":16.2},\"2022-01-06\":{\"station_id\":6000990,\"temperature\":1.2,\"precipitation\":0.3,\"maxwind\":6.8},\"2022-01-07\":{\"station_id\":6000990,\"temperature\":0.0,\"precipitation\":1.4,\"maxwind\":16.6},\"2022-01-08\":{\"station_id\":6000990,\"temperature\":0.8,\"precipitation\":3.9,\"maxwind\":35.6},\"2022-01-09\":{\"station_id\":6000990,\"temperature\":1.3,\"precipitation\":3.4,\"maxwind\":27.7},\"2022-01-10\":{\"station_id\":6000990,\"temperature\":0.5,\"precipitation\":1.1,\"maxwind\":8.6},\"2022-01-11\":{\"station_id\":6000990,\"temperature\":0.2,\"precipitation\":0.0,\"maxwind\":12.2},\"2022-01-12\":{\"station_id\":6000990,\"temperature\":-0.8,\"precipitation\":0.0,\"maxwind\":10.8},\"2022-01-13\":{\"station_id\":6000990,\"temperature\":1.6,\"precipitation\":0.0,\"maxwind\":9.0},\"2022-01-14\":{\"station_id\":6000990,\"temperature\":3.4,\"precipitation\":0.0,\"maxwind\":4.0},\"2022-01-15\":{\"station_id\":6000990,\"temperature\":2.8,\"precipitation\":0.0,\"maxwind\":5.0},\"2022-01-16\":{\"station_id\":6000990,\"temperature\":0.8,\"precipitation\":0.0,\"maxwind\":10.8},\"2022-01-17\":{\"station_id\":6000990,\"temperature\":2.5,\"precipitation\":0.0,\"maxwind\":7.6},\"2022-01-18\":{\"station_id\":6000990,\"temperature\":4.4,\"precipitation\":0.0,\"maxwind\":15.8},\"2022-01-19\":{\"station_id\":6000990,\"temperature\":2.0,\"precipitation\":0.0,\"maxwind\":15.8},\"2022-01-20\":{\"station_id\":6000990,\"temperature\":0.8,\"precipitation\":2.2,\"maxwind\":16.2},\"2022-01-21\":{\"station_id\":6000990,\"temperature\":-1.1,\"precipitation\":0.0,\"maxwind\":8.6},\"2022-01-22\":{\"station_id\":6000990,\"temperature\":1.8,\"precipitation\":0.4,\"maxwind\":4.3},\"2022-01-23\":{\"station_id\":6000990,\"temperature\":3.2,\"precipitation\":0.0,\"maxwind\":11.9},\"2022-01-24\":{\"station_id\":6000990,\"temperature\":2.6,\"precipitation\":0.0,\"maxwind\":4.7},\"2022-01-25\":{\"station_id\":6000990,\"temperature\":2.7,\"precipitation\":0.0,\"maxwind\":6.1},\"2022-01-26\":{\"station_id\":6000990,\"temperature\":2.6,\"precipitation\":0.0,\"maxwind\":6.1},\"2022-01-27\":{\"station_id\":6000990,\"temperature\":3.1,\"precipitation\":0.5,\"maxwind\":12.2},\"2022-01-28\":{\"station_id\":6000990,\"temperature\":3.0,\"precipitation\":0.1,\"maxwind\":8.3},\"2022-01-29\":{\"station_id\":6000990,\"temperature\":1.7,\"precipitation\":0.0,\"maxwind\":15.8},\"2022-01-30\":{\"station_id\":6000990,\"temperature\":4.2,\"precipitation\":0.3,\"maxwind\":12.2},\"2022-01-31\":{\"station_id\":6000990,\"temperature\":1.8,\"precipitation\":1.9,\"maxwind\":23.0},\"2022-02-01\":{\"station_id\":6000990,\"temperature\":0.4,\"precipitation\":2.2,\"maxwind\":23.0},\"2022-02-02\":{\"station_id\":6000990,\"temperature\":6.4,\"precipitation\":1.5,\"maxwind\":16.6},\"2022-02-03\":{\"station_id\":6000990,\"temperature\":5.5,\"precipitation\":0.0,\"maxwind\":9.0},\"2022-02-04\":{\"station_id\":6000990,\"temperature\":4.6,\"precipitation\":0.3,\"maxwind\":18.0},\"2022-02-05\":{\"station_id\":6000990,\"temperature\":1.8,\"precipitation\":0.6,\"maxwind\":13.3},\"2022-02-06\":{\"station_id\":6000990,\"temperature\":3.6,\"precipitation\":2.2,\"maxwind\":34.6},\"2022-02-07\":{\"station_id\":6000990,\"temperature\":2.6,\"precipitation\":2.0,\"maxwind\":31.3},\"2022-02-08\":{\"station_id\":6000990,\"temperature\":4.1,\"precipitation\":0.0,\"maxwind\":5.8},\"2022-02-09\":{\"station_id\":6000990,\"temperature\":5.2,\"precipitation\":0.0,\"maxwind\":9.4},\"2022-02-10\":{\"station_id\":6000990,\"temperature\":6.0,\"precipitation\":0.0,\"maxwind\":20.2},\"2022-02-11\":{\"station_id\":6000990,\"temperature\":1.6,\"precipitation\":4.5,\"maxwind\":15.5},\"2022-02-12\":{\"station_id\":6000990,\"temperature\":1.0,\"precipitation\":0.0,\"maxwind\":7.2},\"2022-02-13\":{\"station_id\":6000990,\"temperature\":5.6,\"precipitation\":0.0,\"maxwind\":28.4},\"2022-02-14\":{\"station_id\":6000990,\"temperature\":7.2,\"precipitation\":1.4,\"maxwind\":29.2},\"2022-02-15\":{\"station_id\":6000990,\"temperature\":4.7,\"precipitation\":3.5,\"maxwind\":22.7},\"2022-02-16\":{\"station_id\":6000990,\"temperature\":5.6,\"precipitation\":19.2,\"maxwind\":27.4},\"2022-02-17\":{\"station_id\":6000990,\"temperature\":8.5,\"precipitation\":11.2,\"maxwind\":31.0},\"2022-02-18\":{\"station_id\":6000990,\"temperature\":7.5,\"precipitation\":6.1,\"maxwind\":28.4},\"2022-02-19\":{\"station_id\":6000990,\"temperature\":4.0,\"precipitation\":2.6,\"maxwind\":32.4},\"2022-02-20\":{\"station_id\":6000990,\"temperature\":5.0,\"precipitation\":41.1,\"maxwind\":33.1},\"2022-02-21\":{\"station_id\":6000990,\"temperature\":4.5,\"precipitation\":32.8,\"maxwind\":35.3},\"2022-02-22\":{\"station_id\":6000990,\"temperature\":4.3,\"precipitation\":1.0,\"maxwind\":12.2},\"2022-02-23\":{\"station_id\":6000990,\"temperature\":4.2,\"precipitation\":0.0,\"maxwind\":5.8},\"2022-02-24\":{\"station_id\":6000990,\"temperature\":4.8,\"precipitation\":0.0,\"maxwind\":4.7}}'"
      ]
     },
     "execution_count": 54,
     "metadata": {},
     "output_type": "execute_result"
    }
   ],
   "source": [
    "weather.to_json(orient='index')"
   ]
  },
  {
   "cell_type": "code",
   "execution_count": 49,
   "id": "240c65e6",
   "metadata": {},
   "outputs": [
    {
     "data": {
      "text/plain": [
       "Timestamp('2021-12-17 00:00:00')"
      ]
     },
     "execution_count": 49,
     "metadata": {},
     "output_type": "execute_result"
    }
   ],
   "source": [
    "weather.index[0]"
   ]
  },
  {
   "cell_type": "code",
   "execution_count": null,
   "id": "cd64413f",
   "metadata": {},
   "outputs": [],
   "source": []
  }
 ],
 "metadata": {
  "kernelspec": {
   "display_name": "Python 3 (ipykernel)",
   "language": "python",
   "name": "python3"
  },
  "language_info": {
   "codemirror_mode": {
    "name": "ipython",
    "version": 3
   },
   "file_extension": ".py",
   "mimetype": "text/x-python",
   "name": "python",
   "nbconvert_exporter": "python",
   "pygments_lexer": "ipython3",
   "version": "3.8.12"
  },
  "toc": {
   "base_numbering": 1,
   "nav_menu": {},
   "number_sections": true,
   "sideBar": true,
   "skip_h1_title": false,
   "title_cell": "Table of Contents",
   "title_sidebar": "Contents",
   "toc_cell": false,
   "toc_position": {},
   "toc_section_display": true,
   "toc_window_display": false
  }
 },
 "nbformat": 4,
 "nbformat_minor": 5
}
